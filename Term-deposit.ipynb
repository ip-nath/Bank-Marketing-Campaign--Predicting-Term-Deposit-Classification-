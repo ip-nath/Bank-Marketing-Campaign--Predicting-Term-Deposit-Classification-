{
 "cells": [
  {
   "cell_type": "markdown",
   "id": "bb1fb9c3",
   "metadata": {},
   "source": [
    "# Bank Marketing Campaign - Predicting Term Deposit(Classification)"
   ]
  },
  {
   "cell_type": "code",
   "execution_count": 113,
   "id": "c663bc7d",
   "metadata": {},
   "outputs": [],
   "source": [
    "import pandas as pd\n",
    "import seaborn as sns\n",
    "import numpy as np\n",
    "import matplotlib.pyplot as plt\n",
    "from scipy import stats"
   ]
  },
  {
   "cell_type": "code",
   "execution_count": 114,
   "id": "f4d1f72c",
   "metadata": {},
   "outputs": [],
   "source": [
    "df = pd.read_csv(\"C:\\\\Users\\\\tanum\\\\Downloads\\\\bank-additional-full (1).csv\")"
   ]
  },
  {
   "cell_type": "code",
   "execution_count": 115,
   "id": "11a6787e",
   "metadata": {},
   "outputs": [
    {
     "data": {
      "text/html": [
       "<div>\n",
       "<style scoped>\n",
       "    .dataframe tbody tr th:only-of-type {\n",
       "        vertical-align: middle;\n",
       "    }\n",
       "\n",
       "    .dataframe tbody tr th {\n",
       "        vertical-align: top;\n",
       "    }\n",
       "\n",
       "    .dataframe thead th {\n",
       "        text-align: right;\n",
       "    }\n",
       "</style>\n",
       "<table border=\"1\" class=\"dataframe\">\n",
       "  <thead>\n",
       "    <tr style=\"text-align: right;\">\n",
       "      <th></th>\n",
       "      <th>age</th>\n",
       "      <th>job</th>\n",
       "      <th>marital</th>\n",
       "      <th>education</th>\n",
       "      <th>car.loan</th>\n",
       "      <th>hou.loan</th>\n",
       "      <th>per.loan</th>\n",
       "      <th>contact</th>\n",
       "      <th>month</th>\n",
       "      <th>day_of_week</th>\n",
       "      <th>campaign</th>\n",
       "      <th>pdays</th>\n",
       "      <th>outcome</th>\n",
       "      <th>y</th>\n",
       "    </tr>\n",
       "  </thead>\n",
       "  <tbody>\n",
       "    <tr>\n",
       "      <th>0</th>\n",
       "      <td>56</td>\n",
       "      <td>housemaid</td>\n",
       "      <td>married</td>\n",
       "      <td>basic.4y</td>\n",
       "      <td>yes</td>\n",
       "      <td>no</td>\n",
       "      <td>no</td>\n",
       "      <td>telephone</td>\n",
       "      <td>may</td>\n",
       "      <td>mon</td>\n",
       "      <td>1</td>\n",
       "      <td>999</td>\n",
       "      <td>hold</td>\n",
       "      <td>no</td>\n",
       "    </tr>\n",
       "    <tr>\n",
       "      <th>1</th>\n",
       "      <td>57</td>\n",
       "      <td>services</td>\n",
       "      <td>married</td>\n",
       "      <td>high.school</td>\n",
       "      <td>yes</td>\n",
       "      <td>no</td>\n",
       "      <td>no</td>\n",
       "      <td>telephone</td>\n",
       "      <td>may</td>\n",
       "      <td>mon</td>\n",
       "      <td>1</td>\n",
       "      <td>999</td>\n",
       "      <td>hold</td>\n",
       "      <td>no</td>\n",
       "    </tr>\n",
       "    <tr>\n",
       "      <th>2</th>\n",
       "      <td>37</td>\n",
       "      <td>services</td>\n",
       "      <td>married</td>\n",
       "      <td>high.school</td>\n",
       "      <td>yes</td>\n",
       "      <td>yes</td>\n",
       "      <td>no</td>\n",
       "      <td>telephone</td>\n",
       "      <td>may</td>\n",
       "      <td>mon</td>\n",
       "      <td>1</td>\n",
       "      <td>999</td>\n",
       "      <td>hold</td>\n",
       "      <td>no</td>\n",
       "    </tr>\n",
       "    <tr>\n",
       "      <th>3</th>\n",
       "      <td>40</td>\n",
       "      <td>admin.</td>\n",
       "      <td>married</td>\n",
       "      <td>basic.6y</td>\n",
       "      <td>yes</td>\n",
       "      <td>no</td>\n",
       "      <td>no</td>\n",
       "      <td>telephone</td>\n",
       "      <td>may</td>\n",
       "      <td>mon</td>\n",
       "      <td>1</td>\n",
       "      <td>999</td>\n",
       "      <td>hold</td>\n",
       "      <td>no</td>\n",
       "    </tr>\n",
       "    <tr>\n",
       "      <th>4</th>\n",
       "      <td>56</td>\n",
       "      <td>services</td>\n",
       "      <td>married</td>\n",
       "      <td>high.school</td>\n",
       "      <td>yes</td>\n",
       "      <td>no</td>\n",
       "      <td>yes</td>\n",
       "      <td>telephone</td>\n",
       "      <td>may</td>\n",
       "      <td>mon</td>\n",
       "      <td>1</td>\n",
       "      <td>999</td>\n",
       "      <td>hold</td>\n",
       "      <td>no</td>\n",
       "    </tr>\n",
       "    <tr>\n",
       "      <th>...</th>\n",
       "      <td>...</td>\n",
       "      <td>...</td>\n",
       "      <td>...</td>\n",
       "      <td>...</td>\n",
       "      <td>...</td>\n",
       "      <td>...</td>\n",
       "      <td>...</td>\n",
       "      <td>...</td>\n",
       "      <td>...</td>\n",
       "      <td>...</td>\n",
       "      <td>...</td>\n",
       "      <td>...</td>\n",
       "      <td>...</td>\n",
       "      <td>...</td>\n",
       "    </tr>\n",
       "    <tr>\n",
       "      <th>41183</th>\n",
       "      <td>73</td>\n",
       "      <td>retired</td>\n",
       "      <td>married</td>\n",
       "      <td>professional.course</td>\n",
       "      <td>no</td>\n",
       "      <td>yes</td>\n",
       "      <td>no</td>\n",
       "      <td>cellular</td>\n",
       "      <td>nov</td>\n",
       "      <td>fri</td>\n",
       "      <td>1</td>\n",
       "      <td>999</td>\n",
       "      <td>hold</td>\n",
       "      <td>yes</td>\n",
       "    </tr>\n",
       "    <tr>\n",
       "      <th>41184</th>\n",
       "      <td>46</td>\n",
       "      <td>blue-collar</td>\n",
       "      <td>married</td>\n",
       "      <td>professional.course</td>\n",
       "      <td>no</td>\n",
       "      <td>no</td>\n",
       "      <td>no</td>\n",
       "      <td>cellular</td>\n",
       "      <td>nov</td>\n",
       "      <td>fri</td>\n",
       "      <td>1</td>\n",
       "      <td>999</td>\n",
       "      <td>hold</td>\n",
       "      <td>no</td>\n",
       "    </tr>\n",
       "    <tr>\n",
       "      <th>41185</th>\n",
       "      <td>56</td>\n",
       "      <td>retired</td>\n",
       "      <td>married</td>\n",
       "      <td>university.degree</td>\n",
       "      <td>no</td>\n",
       "      <td>yes</td>\n",
       "      <td>no</td>\n",
       "      <td>cellular</td>\n",
       "      <td>nov</td>\n",
       "      <td>fri</td>\n",
       "      <td>2</td>\n",
       "      <td>999</td>\n",
       "      <td>hold</td>\n",
       "      <td>no</td>\n",
       "    </tr>\n",
       "    <tr>\n",
       "      <th>41186</th>\n",
       "      <td>44</td>\n",
       "      <td>technician</td>\n",
       "      <td>married</td>\n",
       "      <td>professional.course</td>\n",
       "      <td>no</td>\n",
       "      <td>no</td>\n",
       "      <td>no</td>\n",
       "      <td>cellular</td>\n",
       "      <td>nov</td>\n",
       "      <td>fri</td>\n",
       "      <td>1</td>\n",
       "      <td>999</td>\n",
       "      <td>hold</td>\n",
       "      <td>yes</td>\n",
       "    </tr>\n",
       "    <tr>\n",
       "      <th>41187</th>\n",
       "      <td>74</td>\n",
       "      <td>retired</td>\n",
       "      <td>married</td>\n",
       "      <td>professional.course</td>\n",
       "      <td>no</td>\n",
       "      <td>yes</td>\n",
       "      <td>no</td>\n",
       "      <td>cellular</td>\n",
       "      <td>nov</td>\n",
       "      <td>fri</td>\n",
       "      <td>3</td>\n",
       "      <td>999</td>\n",
       "      <td>failure</td>\n",
       "      <td>no</td>\n",
       "    </tr>\n",
       "  </tbody>\n",
       "</table>\n",
       "<p>41188 rows × 14 columns</p>\n",
       "</div>"
      ],
      "text/plain": [
       "       age          job  marital            education car.loan hou.loan  \\\n",
       "0       56    housemaid  married             basic.4y      yes       no   \n",
       "1       57     services  married          high.school      yes       no   \n",
       "2       37     services  married          high.school      yes      yes   \n",
       "3       40       admin.  married             basic.6y      yes       no   \n",
       "4       56     services  married          high.school      yes       no   \n",
       "...    ...          ...      ...                  ...      ...      ...   \n",
       "41183   73      retired  married  professional.course       no      yes   \n",
       "41184   46  blue-collar  married  professional.course       no       no   \n",
       "41185   56      retired  married    university.degree       no      yes   \n",
       "41186   44   technician  married  professional.course       no       no   \n",
       "41187   74      retired  married  professional.course       no      yes   \n",
       "\n",
       "      per.loan    contact month day_of_week  campaign  pdays  outcome    y  \n",
       "0           no  telephone   may         mon         1    999     hold   no  \n",
       "1           no  telephone   may         mon         1    999     hold   no  \n",
       "2           no  telephone   may         mon         1    999     hold   no  \n",
       "3           no  telephone   may         mon         1    999     hold   no  \n",
       "4          yes  telephone   may         mon         1    999     hold   no  \n",
       "...        ...        ...   ...         ...       ...    ...      ...  ...  \n",
       "41183       no   cellular   nov         fri         1    999     hold  yes  \n",
       "41184       no   cellular   nov         fri         1    999     hold   no  \n",
       "41185       no   cellular   nov         fri         2    999     hold   no  \n",
       "41186       no   cellular   nov         fri         1    999     hold  yes  \n",
       "41187       no   cellular   nov         fri         3    999  failure   no  \n",
       "\n",
       "[41188 rows x 14 columns]"
      ]
     },
     "execution_count": 115,
     "metadata": {},
     "output_type": "execute_result"
    }
   ],
   "source": [
    "df"
   ]
  },
  {
   "cell_type": "code",
   "execution_count": 116,
   "id": "f0f9f3e7",
   "metadata": {},
   "outputs": [
    {
     "data": {
      "text/plain": [
       "(41188, 14)"
      ]
     },
     "execution_count": 116,
     "metadata": {},
     "output_type": "execute_result"
    }
   ],
   "source": [
    "#shape of data\n",
    "df.shape"
   ]
  },
  {
   "cell_type": "code",
   "execution_count": 117,
   "id": "b56bd2ee",
   "metadata": {},
   "outputs": [
    {
     "name": "stdout",
     "output_type": "stream",
     "text": [
      "<class 'pandas.core.frame.DataFrame'>\n",
      "RangeIndex: 41188 entries, 0 to 41187\n",
      "Data columns (total 14 columns):\n",
      " #   Column       Non-Null Count  Dtype \n",
      "---  ------       --------------  ----- \n",
      " 0   age          41188 non-null  int64 \n",
      " 1   job          41188 non-null  object\n",
      " 2   marital      41188 non-null  object\n",
      " 3   education    41188 non-null  object\n",
      " 4   car.loan     41188 non-null  object\n",
      " 5   hou.loan     41188 non-null  object\n",
      " 6   per.loan     41188 non-null  object\n",
      " 7   contact      41188 non-null  object\n",
      " 8   month        41188 non-null  object\n",
      " 9   day_of_week  41188 non-null  object\n",
      " 10  campaign     41188 non-null  int64 \n",
      " 11  pdays        41188 non-null  int64 \n",
      " 12  outcome      41188 non-null  object\n",
      " 13  y            41188 non-null  object\n",
      "dtypes: int64(3), object(11)\n",
      "memory usage: 4.4+ MB\n"
     ]
    }
   ],
   "source": [
    "#checking data type\n",
    "df.info()"
   ]
  },
  {
   "cell_type": "code",
   "execution_count": 118,
   "id": "da750181",
   "metadata": {},
   "outputs": [
    {
     "data": {
      "text/plain": [
       "age            0\n",
       "job            0\n",
       "marital        0\n",
       "education      0\n",
       "car.loan       0\n",
       "hou.loan       0\n",
       "per.loan       0\n",
       "contact        0\n",
       "month          0\n",
       "day_of_week    0\n",
       "campaign       0\n",
       "pdays          0\n",
       "outcome        0\n",
       "y              0\n",
       "dtype: int64"
      ]
     },
     "execution_count": 118,
     "metadata": {},
     "output_type": "execute_result"
    }
   ],
   "source": [
    "#checking null value present in the dataset\n",
    "df.isnull().sum()"
   ]
  },
  {
   "cell_type": "code",
   "execution_count": 119,
   "id": "7d9d34c8",
   "metadata": {},
   "outputs": [
    {
     "data": {
      "text/plain": [
       "age            78\n",
       "job            12\n",
       "marital         3\n",
       "education       7\n",
       "car.loan        2\n",
       "hou.loan        2\n",
       "per.loan        2\n",
       "contact         2\n",
       "month          10\n",
       "day_of_week     5\n",
       "campaign       42\n",
       "pdays          27\n",
       "outcome         3\n",
       "y               2\n",
       "dtype: int64"
      ]
     },
     "execution_count": 119,
     "metadata": {},
     "output_type": "execute_result"
    }
   ],
   "source": [
    "#no of unique variable present in each features\n",
    "df.nunique()"
   ]
  },
  {
   "cell_type": "code",
   "execution_count": 120,
   "id": "6d8307f6",
   "metadata": {},
   "outputs": [
    {
     "data": {
      "text/html": [
       "<div>\n",
       "<style scoped>\n",
       "    .dataframe tbody tr th:only-of-type {\n",
       "        vertical-align: middle;\n",
       "    }\n",
       "\n",
       "    .dataframe tbody tr th {\n",
       "        vertical-align: top;\n",
       "    }\n",
       "\n",
       "    .dataframe thead th {\n",
       "        text-align: right;\n",
       "    }\n",
       "</style>\n",
       "<table border=\"1\" class=\"dataframe\">\n",
       "  <thead>\n",
       "    <tr style=\"text-align: right;\">\n",
       "      <th></th>\n",
       "      <th>age</th>\n",
       "      <th>campaign</th>\n",
       "      <th>pdays</th>\n",
       "    </tr>\n",
       "  </thead>\n",
       "  <tbody>\n",
       "    <tr>\n",
       "      <th>count</th>\n",
       "      <td>41188.00000</td>\n",
       "      <td>41188.000000</td>\n",
       "      <td>41188.000000</td>\n",
       "    </tr>\n",
       "    <tr>\n",
       "      <th>mean</th>\n",
       "      <td>40.02406</td>\n",
       "      <td>2.567593</td>\n",
       "      <td>962.475454</td>\n",
       "    </tr>\n",
       "    <tr>\n",
       "      <th>std</th>\n",
       "      <td>10.42125</td>\n",
       "      <td>2.770014</td>\n",
       "      <td>186.910907</td>\n",
       "    </tr>\n",
       "    <tr>\n",
       "      <th>min</th>\n",
       "      <td>17.00000</td>\n",
       "      <td>1.000000</td>\n",
       "      <td>0.000000</td>\n",
       "    </tr>\n",
       "    <tr>\n",
       "      <th>25%</th>\n",
       "      <td>32.00000</td>\n",
       "      <td>1.000000</td>\n",
       "      <td>999.000000</td>\n",
       "    </tr>\n",
       "    <tr>\n",
       "      <th>50%</th>\n",
       "      <td>38.00000</td>\n",
       "      <td>2.000000</td>\n",
       "      <td>999.000000</td>\n",
       "    </tr>\n",
       "    <tr>\n",
       "      <th>75%</th>\n",
       "      <td>47.00000</td>\n",
       "      <td>3.000000</td>\n",
       "      <td>999.000000</td>\n",
       "    </tr>\n",
       "    <tr>\n",
       "      <th>max</th>\n",
       "      <td>98.00000</td>\n",
       "      <td>56.000000</td>\n",
       "      <td>999.000000</td>\n",
       "    </tr>\n",
       "  </tbody>\n",
       "</table>\n",
       "</div>"
      ],
      "text/plain": [
       "               age      campaign         pdays\n",
       "count  41188.00000  41188.000000  41188.000000\n",
       "mean      40.02406      2.567593    962.475454\n",
       "std       10.42125      2.770014    186.910907\n",
       "min       17.00000      1.000000      0.000000\n",
       "25%       32.00000      1.000000    999.000000\n",
       "50%       38.00000      2.000000    999.000000\n",
       "75%       47.00000      3.000000    999.000000\n",
       "max       98.00000     56.000000    999.000000"
      ]
     },
     "execution_count": 120,
     "metadata": {},
     "output_type": "execute_result"
    }
   ],
   "source": [
    "df.describe()"
   ]
  },
  {
   "cell_type": "code",
   "execution_count": 121,
   "id": "7ee8c4c5",
   "metadata": {},
   "outputs": [],
   "source": [
    "#renaming 'y' as 'target'\n",
    "df = df.rename(columns = {'y': 'target'})"
   ]
  },
  {
   "cell_type": "code",
   "execution_count": 122,
   "id": "0ef8766f",
   "metadata": {},
   "outputs": [
    {
     "data": {
      "text/html": [
       "<div>\n",
       "<style scoped>\n",
       "    .dataframe tbody tr th:only-of-type {\n",
       "        vertical-align: middle;\n",
       "    }\n",
       "\n",
       "    .dataframe tbody tr th {\n",
       "        vertical-align: top;\n",
       "    }\n",
       "\n",
       "    .dataframe thead th {\n",
       "        text-align: right;\n",
       "    }\n",
       "</style>\n",
       "<table border=\"1\" class=\"dataframe\">\n",
       "  <thead>\n",
       "    <tr style=\"text-align: right;\">\n",
       "      <th></th>\n",
       "      <th>age</th>\n",
       "      <th>job</th>\n",
       "      <th>marital</th>\n",
       "      <th>education</th>\n",
       "      <th>car.loan</th>\n",
       "      <th>hou.loan</th>\n",
       "      <th>per.loan</th>\n",
       "      <th>contact</th>\n",
       "      <th>month</th>\n",
       "      <th>day_of_week</th>\n",
       "      <th>campaign</th>\n",
       "      <th>pdays</th>\n",
       "      <th>outcome</th>\n",
       "      <th>target</th>\n",
       "    </tr>\n",
       "  </thead>\n",
       "  <tbody>\n",
       "    <tr>\n",
       "      <th>0</th>\n",
       "      <td>56</td>\n",
       "      <td>housemaid</td>\n",
       "      <td>married</td>\n",
       "      <td>basic.4y</td>\n",
       "      <td>yes</td>\n",
       "      <td>no</td>\n",
       "      <td>no</td>\n",
       "      <td>telephone</td>\n",
       "      <td>may</td>\n",
       "      <td>mon</td>\n",
       "      <td>1</td>\n",
       "      <td>999</td>\n",
       "      <td>hold</td>\n",
       "      <td>no</td>\n",
       "    </tr>\n",
       "    <tr>\n",
       "      <th>1</th>\n",
       "      <td>57</td>\n",
       "      <td>services</td>\n",
       "      <td>married</td>\n",
       "      <td>high.school</td>\n",
       "      <td>yes</td>\n",
       "      <td>no</td>\n",
       "      <td>no</td>\n",
       "      <td>telephone</td>\n",
       "      <td>may</td>\n",
       "      <td>mon</td>\n",
       "      <td>1</td>\n",
       "      <td>999</td>\n",
       "      <td>hold</td>\n",
       "      <td>no</td>\n",
       "    </tr>\n",
       "    <tr>\n",
       "      <th>2</th>\n",
       "      <td>37</td>\n",
       "      <td>services</td>\n",
       "      <td>married</td>\n",
       "      <td>high.school</td>\n",
       "      <td>yes</td>\n",
       "      <td>yes</td>\n",
       "      <td>no</td>\n",
       "      <td>telephone</td>\n",
       "      <td>may</td>\n",
       "      <td>mon</td>\n",
       "      <td>1</td>\n",
       "      <td>999</td>\n",
       "      <td>hold</td>\n",
       "      <td>no</td>\n",
       "    </tr>\n",
       "    <tr>\n",
       "      <th>3</th>\n",
       "      <td>40</td>\n",
       "      <td>admin.</td>\n",
       "      <td>married</td>\n",
       "      <td>basic.6y</td>\n",
       "      <td>yes</td>\n",
       "      <td>no</td>\n",
       "      <td>no</td>\n",
       "      <td>telephone</td>\n",
       "      <td>may</td>\n",
       "      <td>mon</td>\n",
       "      <td>1</td>\n",
       "      <td>999</td>\n",
       "      <td>hold</td>\n",
       "      <td>no</td>\n",
       "    </tr>\n",
       "    <tr>\n",
       "      <th>4</th>\n",
       "      <td>56</td>\n",
       "      <td>services</td>\n",
       "      <td>married</td>\n",
       "      <td>high.school</td>\n",
       "      <td>yes</td>\n",
       "      <td>no</td>\n",
       "      <td>yes</td>\n",
       "      <td>telephone</td>\n",
       "      <td>may</td>\n",
       "      <td>mon</td>\n",
       "      <td>1</td>\n",
       "      <td>999</td>\n",
       "      <td>hold</td>\n",
       "      <td>no</td>\n",
       "    </tr>\n",
       "  </tbody>\n",
       "</table>\n",
       "</div>"
      ],
      "text/plain": [
       "   age        job  marital    education car.loan hou.loan per.loan    contact  \\\n",
       "0   56  housemaid  married     basic.4y      yes       no       no  telephone   \n",
       "1   57   services  married  high.school      yes       no       no  telephone   \n",
       "2   37   services  married  high.school      yes      yes       no  telephone   \n",
       "3   40     admin.  married     basic.6y      yes       no       no  telephone   \n",
       "4   56   services  married  high.school      yes       no      yes  telephone   \n",
       "\n",
       "  month day_of_week  campaign  pdays outcome target  \n",
       "0   may         mon         1    999    hold     no  \n",
       "1   may         mon         1    999    hold     no  \n",
       "2   may         mon         1    999    hold     no  \n",
       "3   may         mon         1    999    hold     no  \n",
       "4   may         mon         1    999    hold     no  "
      ]
     },
     "execution_count": 122,
     "metadata": {},
     "output_type": "execute_result"
    }
   ],
   "source": [
    "df.head()"
   ]
  },
  {
   "cell_type": "code",
   "execution_count": 123,
   "id": "f2fc97a4",
   "metadata": {},
   "outputs": [
    {
     "data": {
      "text/plain": [
       "<AxesSubplot:>"
      ]
     },
     "execution_count": 123,
     "metadata": {},
     "output_type": "execute_result"
    },
    {
     "data": {
      "image/png": "[encoded data removed]",
      "text/plain": [
       "<Figure size 936x720 with 2 Axes>"
      ]
     },
     "metadata": {
      "needs_background": "light"
     },
     "output_type": "display_data"
    }
   ],
   "source": [
    "#checking corelation between features\n",
    "import seaborn as sns\n",
    "fig, ax = plt.subplots(figsize=(13,10))\n",
    "sns.heatmap(df.corr(),annot=True)"
   ]
  },
  {
   "cell_type": "markdown",
   "id": "46125a0b",
   "metadata": {},
   "source": [
    "# Making Box Plot of numeric attributes to check outliers"
   ]
  },
  {
   "cell_type": "code",
   "execution_count": 124,
   "id": "39a1e3a4",
   "metadata": {},
   "outputs": [
    {
     "data": {
      "image/png": "[encoded data removed]",
      "text/plain": [
       "<Figure size 504x360 with 1 Axes>"
      ]
     },
     "metadata": {
      "needs_background": "light"
     },
     "output_type": "display_data"
    }
   ],
   "source": [
    "#for 'age' feature\n",
    "plt.figure(figsize=(7,5))\n",
    "fig = sns.boxplot(x='age', data = df, color='blue')"
   ]
  },
  {
   "cell_type": "code",
   "execution_count": 125,
   "id": "7f532b98",
   "metadata": {},
   "outputs": [
    {
     "data": {
      "image/png": "[encoded data removed]",
      "text/plain": [
       "<Figure size 504x360 with 1 Axes>"
      ]
     },
     "metadata": {
      "needs_background": "light"
     },
     "output_type": "display_data"
    }
   ],
   "source": [
    "plt.figure(figsize=(7,5))\n",
    "fig = sns.boxplot(x='campaign' , data=df,  color = 'blue')"
   ]
  },
  {
   "cell_type": "markdown",
   "id": "d2a470ab",
   "metadata": {},
   "source": [
    "# Exploratory Data Analysis"
   ]
  },
  {
   "cell_type": "code",
   "execution_count": 126,
   "id": "b715a2e3",
   "metadata": {},
   "outputs": [
    {
     "data": {
      "text/plain": [
       "<AxesSubplot:xlabel='marital', ylabel='count'>"
      ]
     },
     "execution_count": 126,
     "metadata": {},
     "output_type": "execute_result"
    },
    {
     "data": {
      "image/png": "[encoded data removed]",
      "text/plain": [
       "<Figure size 432x288 with 1 Axes>"
      ]
     },
     "metadata": {
      "needs_background": "light"
     },
     "output_type": "display_data"
    }
   ],
   "source": [
    "#visualizing Categorical Variable\n",
    "plt.figure(figsize=(6,4))\n",
    "sns.countplot(x='marital', data=df)"
   ]
  },
  {
   "cell_type": "code",
   "execution_count": 127,
   "id": "bd37d95a",
   "metadata": {},
   "outputs": [
    {
     "data": {
      "text/plain": [
       "(array([0, 1, 2, 3, 4, 5, 6]),\n",
       " [Text(0, 0, 'basic.4y'),\n",
       "  Text(1, 0, 'high.school'),\n",
       "  Text(2, 0, 'basic.6y'),\n",
       "  Text(3, 0, 'basic.9y'),\n",
       "  Text(4, 0, 'professional.course'),\n",
       "  Text(5, 0, 'university.degree'),\n",
       "  Text(6, 0, 'illiterate')])"
      ]
     },
     "execution_count": 127,
     "metadata": {},
     "output_type": "execute_result"
    },
    {
     "data": {
      "image/png": "[encoded data removed]",
      "text/plain": [
       "<Figure size 720x432 with 1 Axes>"
      ]
     },
     "metadata": {
      "needs_background": "light"
     },
     "output_type": "display_data"
    }
   ],
   "source": [
    "plt.figure(figsize=(10,6))\n",
    "sns.countplot(x='education', data=df)\n",
    "plt.xticks(rotation=45, horizontalalignment='right')"
   ]
  },
  {
   "cell_type": "code",
   "execution_count": 128,
   "id": "cc086bf1",
   "metadata": {},
   "outputs": [
    {
     "data": {
      "text/plain": [
       "(array([ 0,  1,  2,  3,  4,  5,  6,  7,  8,  9, 10, 11]),\n",
       " [Text(0, 0, 'housemaid'),\n",
       "  Text(1, 0, 'services'),\n",
       "  Text(2, 0, 'admin.'),\n",
       "  Text(3, 0, 'blue-collar'),\n",
       "  Text(4, 0, 'technician'),\n",
       "  Text(5, 0, 'retired'),\n",
       "  Text(6, 0, 'management'),\n",
       "  Text(7, 0, 'unemployed'),\n",
       "  Text(8, 0, 'self-employed'),\n",
       "  Text(9, 0, 'unknown'),\n",
       "  Text(10, 0, 'entrepreneur'),\n",
       "  Text(11, 0, 'student')])"
      ]
     },
     "execution_count": 128,
     "metadata": {},
     "output_type": "execute_result"
    },
    {
     "data": {
      "image/png": "[encoded data removed]",
      "text/plain": [
       "<Figure size 864x432 with 1 Axes>"
      ]
     },
     "metadata": {
      "needs_background": "light"
     },
     "output_type": "display_data"
    }
   ],
   "source": [
    "plt.figure(figsize=(12,6))\n",
    "sns.countplot(x='job', data=df)\n",
    "plt.xticks(rotation=45, horizontalalignment='right')"
   ]
  },
  {
   "cell_type": "code",
   "execution_count": 132,
   "id": "8f28d365",
   "metadata": {},
   "outputs": [
    {
     "data": {
      "text/plain": [
       "Text(0.5, 0, 'Car loan')"
      ]
     },
     "execution_count": 132,
     "metadata": {},
     "output_type": "execute_result"
    },
    {
     "data": {
      "image/png": "[encoded data removed]",
      "text/plain": [
       "<Figure size 1008x432 with 3 Axes>"
      ]
     },
     "metadata": {
      "needs_background": "light"
     },
     "output_type": "display_data"
    }
   ],
   "source": [
    "#comparison between 3 kind of loans\n",
    "fig,(ax1,ax2,ax3) = plt.subplots(nrows = 1, ncols=3, figsize=(14,6))\n",
    "sns.countplot(x=\"per.loan\",data=df,ax=ax1)\n",
    "ax1.set_xlabel(\"Personal loan\")\n",
    "sns.countplot(x=\"hou.loan\",data=df,ax=ax2)\n",
    "ax2.set_xlabel(\"House loan\")\n",
    "sns.countplot(x=\"car.loan\", data=df,ax=ax3)\n",
    "ax3.set_xlabel('Car loan')\n"
   ]
  },
  {
   "cell_type": "code",
   "execution_count": 133,
   "id": "1d1966e9",
   "metadata": {},
   "outputs": [],
   "source": [
    "#converting target variable in 0 for 1 for yes\n",
    "df['target']=df['target'].replace({'no':0,'yes':1})\n"
   ]
  },
  {
   "cell_type": "code",
   "execution_count": 134,
   "id": "0843dcb2",
   "metadata": {},
   "outputs": [
    {
     "data": {
      "text/plain": [
       "0    36548\n",
       "1     4640\n",
       "Name: target, dtype: int64"
      ]
     },
     "execution_count": 134,
     "metadata": {},
     "output_type": "execute_result"
    }
   ],
   "source": [
    "df.target.value_counts()"
   ]
  },
  {
   "cell_type": "code",
   "execution_count": 135,
   "id": "dc6ad537",
   "metadata": {},
   "outputs": [
    {
     "data": {
      "text/plain": [
       "Text(0.5, 1.0, 'job vs term deposit(total count)')"
      ]
     },
     "execution_count": 135,
     "metadata": {},
     "output_type": "execute_result"
    },
    {
     "data": {
      "image/png": "[encoded data removed]",
      "text/plain": [
       "<Figure size 1152x432 with 1 Axes>"
      ]
     },
     "metadata": {
      "needs_background": "light"
     },
     "output_type": "display_data"
    }
   ],
   "source": [
    "df1= df.groupby('job').agg({'target':'sum'})\n",
    "plt.figure(figsize=(16,6))\n",
    "sns.barplot(x=df1.index, y=df1.target, data=df1)\n",
    "plt.title('job vs term deposit(total count)', fontsize=16)"
   ]
  },
  {
   "cell_type": "code",
   "execution_count": 136,
   "id": "86dc15f7",
   "metadata": {},
   "outputs": [
    {
     "data": {
      "text/plain": [
       "admin.           10422\n",
       "blue-collar       9254\n",
       "technician        6743\n",
       "services          3969\n",
       "management        2924\n",
       "retired           1720\n",
       "entrepreneur      1456\n",
       "self-employed     1421\n",
       "housemaid         1060\n",
       "unemployed        1014\n",
       "student            875\n",
       "unknown            330\n",
       "Name: job, dtype: int64"
      ]
     },
     "execution_count": 136,
     "metadata": {},
     "output_type": "execute_result"
    }
   ],
   "source": [
    "df.job.value_counts()"
   ]
  },
  {
   "cell_type": "code",
   "execution_count": 137,
   "id": "2f8d9edb",
   "metadata": {},
   "outputs": [
    {
     "data": {
      "text/plain": [
       "Text(0.5, 1.0, 'marital vs term depost (total count)')"
      ]
     },
     "execution_count": 137,
     "metadata": {},
     "output_type": "execute_result"
    },
    {
     "data": {
      "image/png": "[encoded data removed]",
      "text/plain": [
       "<Figure size 720x432 with 1 Axes>"
      ]
     },
     "metadata": {
      "needs_background": "light"
     },
     "output_type": "display_data"
    }
   ],
   "source": [
    "df1= df.groupby('marital').agg({'target':'sum'})\n",
    "plt.figure(figsize=(10,6))\n",
    "sns.barplot(x=df1.index, y = df1.target, data=df1)\n",
    "plt.title(\"marital vs term depost (total count)\", fontsize=16)"
   ]
  },
  {
   "cell_type": "code",
   "execution_count": 138,
   "id": "78662fdd",
   "metadata": {},
   "outputs": [
    {
     "data": {
      "text/plain": [
       "married     24977\n",
       "single      11590\n",
       "divorced     4621\n",
       "Name: marital, dtype: int64"
      ]
     },
     "execution_count": 138,
     "metadata": {},
     "output_type": "execute_result"
    }
   ],
   "source": [
    "df.marital.value_counts()"
   ]
  },
  {
   "cell_type": "code",
   "execution_count": 139,
   "id": "918cc245",
   "metadata": {},
   "outputs": [
    {
     "data": {
      "text/plain": [
       "Text(0.5, 1.0, 'month vs term deposit (total)')"
      ]
     },
     "execution_count": 139,
     "metadata": {},
     "output_type": "execute_result"
    },
    {
     "data": {
      "image/png": "[encoded data removed]",
      "text/plain": [
       "<Figure size 720x432 with 1 Axes>"
      ]
     },
     "metadata": {
      "needs_background": "light"
     },
     "output_type": "display_data"
    }
   ],
   "source": [
    "df1 = df.groupby('month').agg({'target':'sum'})\n",
    "plt.figure(figsize=(10,6))\n",
    "sns.barplot(x=df1.index, y=df1.target, data=df1)\n",
    "plt.title('month vs term deposit (total)', fontsize=16)"
   ]
  },
  {
   "cell_type": "code",
   "execution_count": 140,
   "id": "2a9d9462",
   "metadata": {},
   "outputs": [
    {
     "data": {
      "text/plain": [
       "may    13769\n",
       "jul     7174\n",
       "aug     6178\n",
       "jun     5318\n",
       "nov     4101\n",
       "apr     2632\n",
       "oct      718\n",
       "sep      570\n",
       "mar      546\n",
       "dec      182\n",
       "Name: month, dtype: int64"
      ]
     },
     "execution_count": 140,
     "metadata": {},
     "output_type": "execute_result"
    }
   ],
   "source": [
    "df.month.value_counts()"
   ]
  },
  {
   "cell_type": "code",
   "execution_count": 141,
   "id": "1d51470b",
   "metadata": {},
   "outputs": [
    {
     "data": {
      "text/plain": [
       "Text(0.5, 1.0, 'day_of_week vs term deposit(total)')"
      ]
     },
     "execution_count": 141,
     "metadata": {},
     "output_type": "execute_result"
    },
    {
     "data": {
      "image/png": "[encoded data removed]",
      "text/plain": [
       "<Figure size 720x432 with 1 Axes>"
      ]
     },
     "metadata": {
      "needs_background": "light"
     },
     "output_type": "display_data"
    }
   ],
   "source": [
    "df1= df.groupby('day_of_week').agg({'target':'sum'})\n",
    "plt.figure(figsize=(10,6))\n",
    "sns.barplot(x=df1.index, y=df1.target, data=df1)\n",
    "plt.title('day_of_week vs term deposit(total)', fontsize=16)"
   ]
  },
  {
   "cell_type": "code",
   "execution_count": 142,
   "id": "3b3eb7b0",
   "metadata": {},
   "outputs": [
    {
     "data": {
      "text/plain": [
       "thu    8623\n",
       "mon    8514\n",
       "wed    8134\n",
       "tue    8090\n",
       "fri    7827\n",
       "Name: day_of_week, dtype: int64"
      ]
     },
     "execution_count": 142,
     "metadata": {},
     "output_type": "execute_result"
    }
   ],
   "source": [
    "df.day_of_week.value_counts()"
   ]
  },
  {
   "cell_type": "markdown",
   "id": "90a2b67e",
   "metadata": {},
   "source": [
    "#### For term deposit prime customers were working professionals, retired persons and students. Demographic wise no of married customers has been called more for term deposit. And highest no of calls happened in first 4-5 months in annual year to fill their targets. They most calls happened on thrusday maybe the workpressure was little less and also for fullfilling weekly targets"
   ]
  },
  {
   "cell_type": "markdown",
   "id": "59e9a1a9",
   "metadata": {},
   "source": [
    "# Data Preparation"
   ]
  },
  {
   "cell_type": "code",
   "execution_count": 143,
   "id": "cc2d2fce",
   "metadata": {},
   "outputs": [
    {
     "data": {
      "text/plain": [
       "999    39673\n",
       "3        439\n",
       "6        412\n",
       "4        118\n",
       "9         64\n",
       "2         61\n",
       "7         60\n",
       "12        58\n",
       "10        52\n",
       "5         46\n",
       "13        36\n",
       "11        28\n",
       "1         26\n",
       "15        24\n",
       "14        20\n",
       "8         18\n",
       "0         15\n",
       "16        11\n",
       "17         8\n",
       "18         7\n",
       "22         3\n",
       "19         3\n",
       "21         2\n",
       "25         1\n",
       "26         1\n",
       "27         1\n",
       "20         1\n",
       "Name: pdays, dtype: int64"
      ]
     },
     "execution_count": 143,
     "metadata": {},
     "output_type": "execute_result"
    }
   ],
   "source": [
    "df.pdays.value_counts()"
   ]
  },
  {
   "cell_type": "code",
   "execution_count": 144,
   "id": "0ff6fc5e",
   "metadata": {},
   "outputs": [],
   "source": [
    "#in pdays\n",
    "df['pdays_cat'] = ['not_cont' if each==999 else 'cont' for each in df.pdays]"
   ]
  },
  {
   "cell_type": "code",
   "execution_count": 145,
   "id": "587e06f5",
   "metadata": {},
   "outputs": [
    {
     "data": {
      "text/html": [
       "<div>\n",
       "<style scoped>\n",
       "    .dataframe tbody tr th:only-of-type {\n",
       "        vertical-align: middle;\n",
       "    }\n",
       "\n",
       "    .dataframe tbody tr th {\n",
       "        vertical-align: top;\n",
       "    }\n",
       "\n",
       "    .dataframe thead th {\n",
       "        text-align: right;\n",
       "    }\n",
       "</style>\n",
       "<table border=\"1\" class=\"dataframe\">\n",
       "  <thead>\n",
       "    <tr style=\"text-align: right;\">\n",
       "      <th></th>\n",
       "      <th>age</th>\n",
       "      <th>job</th>\n",
       "      <th>marital</th>\n",
       "      <th>education</th>\n",
       "      <th>car.loan</th>\n",
       "      <th>hou.loan</th>\n",
       "      <th>per.loan</th>\n",
       "      <th>contact</th>\n",
       "      <th>month</th>\n",
       "      <th>day_of_week</th>\n",
       "      <th>campaign</th>\n",
       "      <th>pdays</th>\n",
       "      <th>outcome</th>\n",
       "      <th>target</th>\n",
       "      <th>pdays_cat</th>\n",
       "    </tr>\n",
       "  </thead>\n",
       "  <tbody>\n",
       "    <tr>\n",
       "      <th>0</th>\n",
       "      <td>56</td>\n",
       "      <td>housemaid</td>\n",
       "      <td>married</td>\n",
       "      <td>basic.4y</td>\n",
       "      <td>yes</td>\n",
       "      <td>no</td>\n",
       "      <td>no</td>\n",
       "      <td>telephone</td>\n",
       "      <td>may</td>\n",
       "      <td>mon</td>\n",
       "      <td>1</td>\n",
       "      <td>999</td>\n",
       "      <td>hold</td>\n",
       "      <td>0</td>\n",
       "      <td>not_cont</td>\n",
       "    </tr>\n",
       "    <tr>\n",
       "      <th>1</th>\n",
       "      <td>57</td>\n",
       "      <td>services</td>\n",
       "      <td>married</td>\n",
       "      <td>high.school</td>\n",
       "      <td>yes</td>\n",
       "      <td>no</td>\n",
       "      <td>no</td>\n",
       "      <td>telephone</td>\n",
       "      <td>may</td>\n",
       "      <td>mon</td>\n",
       "      <td>1</td>\n",
       "      <td>999</td>\n",
       "      <td>hold</td>\n",
       "      <td>0</td>\n",
       "      <td>not_cont</td>\n",
       "    </tr>\n",
       "    <tr>\n",
       "      <th>2</th>\n",
       "      <td>37</td>\n",
       "      <td>services</td>\n",
       "      <td>married</td>\n",
       "      <td>high.school</td>\n",
       "      <td>yes</td>\n",
       "      <td>yes</td>\n",
       "      <td>no</td>\n",
       "      <td>telephone</td>\n",
       "      <td>may</td>\n",
       "      <td>mon</td>\n",
       "      <td>1</td>\n",
       "      <td>999</td>\n",
       "      <td>hold</td>\n",
       "      <td>0</td>\n",
       "      <td>not_cont</td>\n",
       "    </tr>\n",
       "    <tr>\n",
       "      <th>3</th>\n",
       "      <td>40</td>\n",
       "      <td>admin.</td>\n",
       "      <td>married</td>\n",
       "      <td>basic.6y</td>\n",
       "      <td>yes</td>\n",
       "      <td>no</td>\n",
       "      <td>no</td>\n",
       "      <td>telephone</td>\n",
       "      <td>may</td>\n",
       "      <td>mon</td>\n",
       "      <td>1</td>\n",
       "      <td>999</td>\n",
       "      <td>hold</td>\n",
       "      <td>0</td>\n",
       "      <td>not_cont</td>\n",
       "    </tr>\n",
       "    <tr>\n",
       "      <th>4</th>\n",
       "      <td>56</td>\n",
       "      <td>services</td>\n",
       "      <td>married</td>\n",
       "      <td>high.school</td>\n",
       "      <td>yes</td>\n",
       "      <td>no</td>\n",
       "      <td>yes</td>\n",
       "      <td>telephone</td>\n",
       "      <td>may</td>\n",
       "      <td>mon</td>\n",
       "      <td>1</td>\n",
       "      <td>999</td>\n",
       "      <td>hold</td>\n",
       "      <td>0</td>\n",
       "      <td>not_cont</td>\n",
       "    </tr>\n",
       "    <tr>\n",
       "      <th>...</th>\n",
       "      <td>...</td>\n",
       "      <td>...</td>\n",
       "      <td>...</td>\n",
       "      <td>...</td>\n",
       "      <td>...</td>\n",
       "      <td>...</td>\n",
       "      <td>...</td>\n",
       "      <td>...</td>\n",
       "      <td>...</td>\n",
       "      <td>...</td>\n",
       "      <td>...</td>\n",
       "      <td>...</td>\n",
       "      <td>...</td>\n",
       "      <td>...</td>\n",
       "      <td>...</td>\n",
       "    </tr>\n",
       "    <tr>\n",
       "      <th>41183</th>\n",
       "      <td>73</td>\n",
       "      <td>retired</td>\n",
       "      <td>married</td>\n",
       "      <td>professional.course</td>\n",
       "      <td>no</td>\n",
       "      <td>yes</td>\n",
       "      <td>no</td>\n",
       "      <td>cellular</td>\n",
       "      <td>nov</td>\n",
       "      <td>fri</td>\n",
       "      <td>1</td>\n",
       "      <td>999</td>\n",
       "      <td>hold</td>\n",
       "      <td>1</td>\n",
       "      <td>not_cont</td>\n",
       "    </tr>\n",
       "    <tr>\n",
       "      <th>41184</th>\n",
       "      <td>46</td>\n",
       "      <td>blue-collar</td>\n",
       "      <td>married</td>\n",
       "      <td>professional.course</td>\n",
       "      <td>no</td>\n",
       "      <td>no</td>\n",
       "      <td>no</td>\n",
       "      <td>cellular</td>\n",
       "      <td>nov</td>\n",
       "      <td>fri</td>\n",
       "      <td>1</td>\n",
       "      <td>999</td>\n",
       "      <td>hold</td>\n",
       "      <td>0</td>\n",
       "      <td>not_cont</td>\n",
       "    </tr>\n",
       "    <tr>\n",
       "      <th>41185</th>\n",
       "      <td>56</td>\n",
       "      <td>retired</td>\n",
       "      <td>married</td>\n",
       "      <td>university.degree</td>\n",
       "      <td>no</td>\n",
       "      <td>yes</td>\n",
       "      <td>no</td>\n",
       "      <td>cellular</td>\n",
       "      <td>nov</td>\n",
       "      <td>fri</td>\n",
       "      <td>2</td>\n",
       "      <td>999</td>\n",
       "      <td>hold</td>\n",
       "      <td>0</td>\n",
       "      <td>not_cont</td>\n",
       "    </tr>\n",
       "    <tr>\n",
       "      <th>41186</th>\n",
       "      <td>44</td>\n",
       "      <td>technician</td>\n",
       "      <td>married</td>\n",
       "      <td>professional.course</td>\n",
       "      <td>no</td>\n",
       "      <td>no</td>\n",
       "      <td>no</td>\n",
       "      <td>cellular</td>\n",
       "      <td>nov</td>\n",
       "      <td>fri</td>\n",
       "      <td>1</td>\n",
       "      <td>999</td>\n",
       "      <td>hold</td>\n",
       "      <td>1</td>\n",
       "      <td>not_cont</td>\n",
       "    </tr>\n",
       "    <tr>\n",
       "      <th>41187</th>\n",
       "      <td>74</td>\n",
       "      <td>retired</td>\n",
       "      <td>married</td>\n",
       "      <td>professional.course</td>\n",
       "      <td>no</td>\n",
       "      <td>yes</td>\n",
       "      <td>no</td>\n",
       "      <td>cellular</td>\n",
       "      <td>nov</td>\n",
       "      <td>fri</td>\n",
       "      <td>3</td>\n",
       "      <td>999</td>\n",
       "      <td>failure</td>\n",
       "      <td>0</td>\n",
       "      <td>not_cont</td>\n",
       "    </tr>\n",
       "  </tbody>\n",
       "</table>\n",
       "<p>41188 rows × 15 columns</p>\n",
       "</div>"
      ],
      "text/plain": [
       "       age          job  marital            education car.loan hou.loan  \\\n",
       "0       56    housemaid  married             basic.4y      yes       no   \n",
       "1       57     services  married          high.school      yes       no   \n",
       "2       37     services  married          high.school      yes      yes   \n",
       "3       40       admin.  married             basic.6y      yes       no   \n",
       "4       56     services  married          high.school      yes       no   \n",
       "...    ...          ...      ...                  ...      ...      ...   \n",
       "41183   73      retired  married  professional.course       no      yes   \n",
       "41184   46  blue-collar  married  professional.course       no       no   \n",
       "41185   56      retired  married    university.degree       no      yes   \n",
       "41186   44   technician  married  professional.course       no       no   \n",
       "41187   74      retired  married  professional.course       no      yes   \n",
       "\n",
       "      per.loan    contact month day_of_week  campaign  pdays  outcome  target  \\\n",
       "0           no  telephone   may         mon         1    999     hold       0   \n",
       "1           no  telephone   may         mon         1    999     hold       0   \n",
       "2           no  telephone   may         mon         1    999     hold       0   \n",
       "3           no  telephone   may         mon         1    999     hold       0   \n",
       "4          yes  telephone   may         mon         1    999     hold       0   \n",
       "...        ...        ...   ...         ...       ...    ...      ...     ...   \n",
       "41183       no   cellular   nov         fri         1    999     hold       1   \n",
       "41184       no   cellular   nov         fri         1    999     hold       0   \n",
       "41185       no   cellular   nov         fri         2    999     hold       0   \n",
       "41186       no   cellular   nov         fri         1    999     hold       1   \n",
       "41187       no   cellular   nov         fri         3    999  failure       0   \n",
       "\n",
       "      pdays_cat  \n",
       "0      not_cont  \n",
       "1      not_cont  \n",
       "2      not_cont  \n",
       "3      not_cont  \n",
       "4      not_cont  \n",
       "...         ...  \n",
       "41183  not_cont  \n",
       "41184  not_cont  \n",
       "41185  not_cont  \n",
       "41186  not_cont  \n",
       "41187  not_cont  \n",
       "\n",
       "[41188 rows x 15 columns]"
      ]
     },
     "execution_count": 145,
     "metadata": {},
     "output_type": "execute_result"
    }
   ],
   "source": [
    "df"
   ]
  },
  {
   "cell_type": "code",
   "execution_count": 146,
   "id": "dbd401df",
   "metadata": {},
   "outputs": [
    {
     "data": {
      "text/plain": [
       "not_cont    39673\n",
       "cont         1515\n",
       "Name: pdays_cat, dtype: int64"
      ]
     },
     "execution_count": 146,
     "metadata": {},
     "output_type": "execute_result"
    }
   ],
   "source": [
    "df.pdays_cat.value_counts()"
   ]
  },
  {
   "cell_type": "code",
   "execution_count": 147,
   "id": "069422d5",
   "metadata": {},
   "outputs": [],
   "source": [
    "#drop a column 'pdays'\n",
    "df = df.drop(['pdays'],axis=1)"
   ]
  },
  {
   "cell_type": "code",
   "execution_count": 148,
   "id": "732f7dd1",
   "metadata": {},
   "outputs": [
    {
     "data": {
      "text/plain": [
       "(41188, 14)"
      ]
     },
     "execution_count": 148,
     "metadata": {},
     "output_type": "execute_result"
    }
   ],
   "source": [
    "df.shape"
   ]
  },
  {
   "cell_type": "markdown",
   "id": "0a63c31a",
   "metadata": {},
   "source": [
    "# User Define function for Outlier Treatment"
   ]
  },
  {
   "cell_type": "code",
   "execution_count": 149,
   "id": "250c742a",
   "metadata": {},
   "outputs": [],
   "source": [
    "term=df.copy()"
   ]
  },
  {
   "cell_type": "code",
   "execution_count": 151,
   "id": "1af8e0a2",
   "metadata": {},
   "outputs": [],
   "source": [
    "outliers=[]\n",
    "upper_lim = 0\n",
    "lower_lim = 0\n",
    "def outlier_detection(x):\n",
    "    global outliers\n",
    "    x_dict = dict(df[x].describe())\n",
    "    print(x_dict)\n",
    "    Q1=x_dict['25%']\n",
    "    print(\"Q1:\", Q1)\n",
    "    Q3=x_dict['75%']\n",
    "    print(\"Q3:\",Q3)\n",
    "    IQR= Q3-Q1\n",
    "    print(\"Inter quartile range is\", IQR)\n",
    "    global lower_lim\n",
    "    global upper_lim\n",
    "    lower_lim=Q1-1.5*IQR\n",
    "    upper_lim = Q3+1.5*IQR\n",
    "    return(lower_lim,upper_lim)"
   ]
  },
  {
   "cell_type": "code",
   "execution_count": 152,
   "id": "fabbe159",
   "metadata": {},
   "outputs": [
    {
     "name": "stdout",
     "output_type": "stream",
     "text": [
      "{'count': 41188.0, 'mean': 40.02406040594348, 'std': 10.421249980934235, 'min': 17.0, '25%': 32.0, '50%': 38.0, '75%': 47.0, 'max': 98.0}\n",
      "Q1: 32.0\n",
      "Q3: 47.0\n",
      "Inter quartile range is 15.0\n"
     ]
    },
    {
     "data": {
      "text/plain": [
       "(9.5, 69.5)"
      ]
     },
     "execution_count": 152,
     "metadata": {},
     "output_type": "execute_result"
    }
   ],
   "source": [
    "outlier_detection('age')"
   ]
  },
  {
   "cell_type": "code",
   "execution_count": 153,
   "id": "9d8299a2",
   "metadata": {},
   "outputs": [],
   "source": [
    "term.loc[((term['age']>=69.5)& (term['age']<=98.0)), 'age'] = round(upper_lim)"
   ]
  },
  {
   "cell_type": "code",
   "execution_count": 154,
   "id": "f020088e",
   "metadata": {},
   "outputs": [
    {
     "data": {
      "text/plain": [
       "Text(0.5, 0, 'Histogram of age before outlier treatment')"
      ]
     },
     "execution_count": 154,
     "metadata": {},
     "output_type": "execute_result"
    },
    {
     "data": {
      "image/png": "[encoded data removed]",
      "text/plain": [
       "<Figure size 1080x432 with 4 Axes>"
      ]
     },
     "metadata": {
      "needs_background": "light"
     },
     "output_type": "display_data"
    }
   ],
   "source": [
    "fig,axes = plt.subplots(nrows=2,ncols=2, figsize=(15,6))\n",
    "sns.boxplot(x='age', data=term, ax=axes[0,0])\n",
    "axes[0,0].set_xlabel('Boxplot of age after outlier treatment')\n",
    "sns.boxplot(x='age', data=df, ax=axes[0,1])\n",
    "axes[0,1].set_xlabel('Boxplot of age before outlier treatment')\n",
    "sns.histplot(x='age',data=term,kde=True,ax=axes[1,0])\n",
    "axes[1,0].set_xlabel('Histogram of age after outlier treatment')\n",
    "sns.histplot(x='age',data=df,kde=True,ax=axes[1,1])\n",
    "axes[1,1].set_xlabel('Histogram of age before outlier treatment')"
   ]
  },
  {
   "cell_type": "code",
   "execution_count": 155,
   "id": "16449921",
   "metadata": {},
   "outputs": [
    {
     "name": "stdout",
     "output_type": "stream",
     "text": [
      "{'count': 41188.0, 'mean': 2.567592502670681, 'std': 2.7700135429021127, 'min': 1.0, '25%': 1.0, '50%': 2.0, '75%': 3.0, 'max': 56.0}\n",
      "Q1: 1.0\n",
      "Q3: 3.0\n",
      "Inter quartile range is 2.0\n"
     ]
    },
    {
     "data": {
      "text/plain": [
       "(-2.0, 6.0)"
      ]
     },
     "execution_count": 155,
     "metadata": {},
     "output_type": "execute_result"
    }
   ],
   "source": [
    "outliers.clear()\n",
    "outlier_detection('campaign')"
   ]
  },
  {
   "cell_type": "code",
   "execution_count": 156,
   "id": "fac2f25e",
   "metadata": {},
   "outputs": [],
   "source": [
    "term.loc[((term['campaign']>= 6) & (term['campaign']<=56.0)), 'campaign' ]=round(upper_lim)"
   ]
  },
  {
   "cell_type": "code",
   "execution_count": 157,
   "id": "405a6b47",
   "metadata": {},
   "outputs": [
    {
     "data": {
      "text/plain": [
       "Text(0.5, 0, 'Histogram of campaign before outlier treatment')"
      ]
     },
     "execution_count": 157,
     "metadata": {},
     "output_type": "execute_result"
    },
    {
     "data": {
      "image/png": "[encoded data removed]",
      "text/plain": [
       "<Figure size 1080x432 with 4 Axes>"
      ]
     },
     "metadata": {
      "needs_background": "light"
     },
     "output_type": "display_data"
    }
   ],
   "source": [
    "fig,axes = plt.subplots(nrows=2, ncols=2, figsize=(15,6))\n",
    "sns.boxplot(x='campaign',data=term,ax=axes[0,0])\n",
    "axes[0,0].set_xlabel('Boxplot of campaign after outlier treatment')\n",
    "sns.boxplot(x='campaign',data=df,ax=axes[0,1])\n",
    "axes[0,1].set_xlabel('Boxplot of campaign before outlier treatment')\n",
    "sns.histplot(x='campaign',data=term,kde=True,ax=axes[1,0])\n",
    "axes[1,0].set_xlabel('Histogram of campaign after outlier treatment')\n",
    "sns.histplot(x='campaign',data=df,kde=True,ax=axes[1,1])\n",
    "axes[1,1].set_xlabel('Histogram of campaign before outlier treatment')"
   ]
  },
  {
   "cell_type": "markdown",
   "id": "a23624f6",
   "metadata": {},
   "source": [
    "# Separating Predictor and Target attribute"
   ]
  },
  {
   "cell_type": "code",
   "execution_count": 158,
   "id": "55d40ac0",
   "metadata": {},
   "outputs": [],
   "source": [
    "#independent and dependent feature\n",
    "X = term.drop('target', axis=1)\n",
    "y= term['target']"
   ]
  },
  {
   "cell_type": "code",
   "execution_count": 159,
   "id": "3d52c77c",
   "metadata": {},
   "outputs": [
    {
     "data": {
      "text/plain": [
       "(41188, 13)"
      ]
     },
     "execution_count": 159,
     "metadata": {},
     "output_type": "execute_result"
    }
   ],
   "source": [
    "X.shape"
   ]
  },
  {
   "cell_type": "code",
   "execution_count": 160,
   "id": "225498ec",
   "metadata": {},
   "outputs": [
    {
     "data": {
      "text/plain": [
       "(41188,)"
      ]
     },
     "execution_count": 160,
     "metadata": {},
     "output_type": "execute_result"
    }
   ],
   "source": [
    "y.shape"
   ]
  },
  {
   "cell_type": "markdown",
   "id": "8128aa3f",
   "metadata": {},
   "source": [
    "# Separating Categorical and Numeric Variables"
   ]
  },
  {
   "cell_type": "code",
   "execution_count": 161,
   "id": "a74a013e",
   "metadata": {},
   "outputs": [],
   "source": [
    "X_num = X.drop(['job', 'marital', 'education', 'car.loan', 'hou.loan', 'per.loan','contact', 'month', 'day_of_week','outcome','pdays_cat'],axis = 1)\n",
    "X_cat = X[['job', 'marital', 'education', 'car.loan', 'hou.loan', 'per.loan','contact', 'month', 'day_of_week','outcome','pdays_cat']]"
   ]
  },
  {
   "cell_type": "code",
   "execution_count": 162,
   "id": "c462304b",
   "metadata": {},
   "outputs": [
    {
     "data": {
      "text/plain": [
       "(41188, 2)"
      ]
     },
     "execution_count": 162,
     "metadata": {},
     "output_type": "execute_result"
    }
   ],
   "source": [
    "X_num.shape"
   ]
  },
  {
   "cell_type": "code",
   "execution_count": 163,
   "id": "3ef68a9b",
   "metadata": {},
   "outputs": [
    {
     "data": {
      "text/plain": [
       "(41188, 11)"
      ]
     },
     "execution_count": 163,
     "metadata": {},
     "output_type": "execute_result"
    }
   ],
   "source": [
    "X_cat.shape"
   ]
  },
  {
   "cell_type": "markdown",
   "id": "f3b079f4",
   "metadata": {},
   "source": [
    "# Preprocessing on Numerical Data"
   ]
  },
  {
   "cell_type": "code",
   "execution_count": 164,
   "id": "b7b1781b",
   "metadata": {},
   "outputs": [],
   "source": [
    "from sklearn.preprocessing import StandardScaler\n",
    "scaler = StandardScaler()"
   ]
  },
  {
   "cell_type": "code",
   "execution_count": 165,
   "id": "0dc326b6",
   "metadata": {},
   "outputs": [],
   "source": [
    "X_num_scaled = scaler.fit_transform(X_num)\n",
    "X_num_scaled_df = pd.DataFrame(X_num_scaled, columns=X_num.columns)"
   ]
  },
  {
   "cell_type": "markdown",
   "id": "237d45de",
   "metadata": {},
   "source": [
    "# Preprocessing on Categorical Data"
   ]
  },
  {
   "cell_type": "code",
   "execution_count": 166,
   "id": "54cf8ac4",
   "metadata": {},
   "outputs": [],
   "source": [
    "#dummy encoding on X set\n",
    "X_cat_dummy=pd.get_dummies(X_cat,drop_first=True)"
   ]
  },
  {
   "cell_type": "code",
   "execution_count": 167,
   "id": "9a85ee50",
   "metadata": {},
   "outputs": [],
   "source": [
    "#Add categorical and numerical data\n",
    "X_final = pd.concat([X_num_scaled_df, X_cat_dummy],axis=1,sort=False)"
   ]
  },
  {
   "cell_type": "code",
   "execution_count": 168,
   "id": "536073c5",
   "metadata": {},
   "outputs": [
    {
     "data": {
      "text/plain": [
       "(41188, 41)"
      ]
     },
     "execution_count": 168,
     "metadata": {},
     "output_type": "execute_result"
    }
   ],
   "source": [
    "X_final.shape"
   ]
  },
  {
   "cell_type": "code",
   "execution_count": 169,
   "id": "5d1ca9a3",
   "metadata": {},
   "outputs": [
    {
     "data": {
      "text/plain": [
       "(41188,)"
      ]
     },
     "execution_count": 169,
     "metadata": {},
     "output_type": "execute_result"
    }
   ],
   "source": [
    "y.shape"
   ]
  },
  {
   "cell_type": "markdown",
   "id": "49b843c7",
   "metadata": {},
   "source": [
    "# Train-test Split"
   ]
  },
  {
   "cell_type": "code",
   "execution_count": 170,
   "id": "b46f3829",
   "metadata": {},
   "outputs": [],
   "source": [
    "from sklearn.model_selection import train_test_split"
   ]
  },
  {
   "cell_type": "code",
   "execution_count": 171,
   "id": "083daa1f",
   "metadata": {},
   "outputs": [],
   "source": [
    "X_train, X_test, y_train, y_test = train_test_split(X_final,y, test_size = 0.20,random_state=42)\n"
   ]
  },
  {
   "cell_type": "code",
   "execution_count": 172,
   "id": "3d9f646d",
   "metadata": {},
   "outputs": [
    {
     "data": {
      "text/plain": [
       "((32950, 41), (8238, 41), (32950,), (8238,))"
      ]
     },
     "execution_count": 172,
     "metadata": {},
     "output_type": "execute_result"
    }
   ],
   "source": [
    "X_train.shape, X_test.shape, y_train.shape, y_test.shape"
   ]
  },
  {
   "cell_type": "code",
   "execution_count": 173,
   "id": "1d96c9b9",
   "metadata": {},
   "outputs": [
    {
     "name": "stdout",
     "output_type": "stream",
     "text": [
      "Counter({0: 29245, 1: 3705})\n"
     ]
    }
   ],
   "source": [
    "from collections import Counter\n",
    "print(Counter(y_train))"
   ]
  },
  {
   "cell_type": "markdown",
   "id": "0a36c14a",
   "metadata": {},
   "source": [
    "# Do Random Oversampling technique to balance the data , this method randomly selectes data from the minority class, with replacement, and adding them to the training dataset."
   ]
  },
  {
   "cell_type": "code",
   "execution_count": 178,
   "id": "bd0f645a",
   "metadata": {},
   "outputs": [
    {
     "name": "stdout",
     "output_type": "stream",
     "text": [
      "Collecting imblearn\n",
      "  Downloading imblearn-0.0-py2.py3-none-any.whl (1.9 kB)\n",
      "Collecting imbalanced-learn\n",
      "  Downloading imbalanced_learn-0.9.1-py3-none-any.whl (199 kB)\n",
      "Requirement already satisfied: scikit-learn>=1.1.0 in c:\\users\\tanum\\anaconda3\\lib\\site-packages (from imbalanced-learn->imblearn) (1.1.2)\n",
      "Requirement already satisfied: joblib>=1.0.0 in c:\\users\\tanum\\anaconda3\\lib\\site-packages (from imbalanced-learn->imblearn) (1.1.0)\n",
      "Requirement already satisfied: threadpoolctl>=2.0.0 in c:\\users\\tanum\\anaconda3\\lib\\site-packages (from imbalanced-learn->imblearn) (2.2.0)\n",
      "Requirement already satisfied: scipy>=1.3.2 in c:\\users\\tanum\\anaconda3\\lib\\site-packages (from imbalanced-learn->imblearn) (1.7.3)\n",
      "Requirement already satisfied: numpy>=1.17.3 in c:\\users\\tanum\\anaconda3\\lib\\site-packages (from imbalanced-learn->imblearn) (1.21.5)\n",
      "Installing collected packages: imbalanced-learn, imblearn\n",
      "Successfully installed imbalanced-learn-0.9.1 imblearn-0.0\n"
     ]
    }
   ],
   "source": [
    "!pip install imblearn"
   ]
  },
  {
   "cell_type": "code",
   "execution_count": 179,
   "id": "1f22af82",
   "metadata": {},
   "outputs": [],
   "source": [
    "from imblearn.over_sampling import RandomOverSampler\n"
   ]
  },
  {
   "cell_type": "code",
   "execution_count": 180,
   "id": "eab80aa0",
   "metadata": {},
   "outputs": [],
   "source": [
    "RO = RandomOverSampler(sampling_strategy='minority')"
   ]
  },
  {
   "cell_type": "code",
   "execution_count": 181,
   "id": "c6ad2f92",
   "metadata": {},
   "outputs": [],
   "source": [
    "X_train_os,y_train_os = RO.fit_resample(X_train,y_train)"
   ]
  },
  {
   "cell_type": "code",
   "execution_count": 182,
   "id": "b6863c6b",
   "metadata": {},
   "outputs": [
    {
     "data": {
      "text/plain": [
       "((58490, 41), (58490,))"
      ]
     },
     "execution_count": 182,
     "metadata": {},
     "output_type": "execute_result"
    }
   ],
   "source": [
    "X_train_os.shape,y_train_os.shape"
   ]
  },
  {
   "cell_type": "code",
   "execution_count": 183,
   "id": "3261848a",
   "metadata": {},
   "outputs": [
    {
     "name": "stdout",
     "output_type": "stream",
     "text": [
      "Counter({0: 29245, 1: 3705})\n",
      "Counter({0: 29245, 1: 29245})\n"
     ]
    }
   ],
   "source": [
    "from collections import Counter\n",
    "print(Counter(y_train))\n",
    "print(Counter(y_train_os))"
   ]
  },
  {
   "cell_type": "code",
   "execution_count": 184,
   "id": "3aecb412",
   "metadata": {},
   "outputs": [
    {
     "data": {
      "text/plain": [
       "((58490, 41), (8238, 41), (58490,), (8238,))"
      ]
     },
     "execution_count": 184,
     "metadata": {},
     "output_type": "execute_result"
    }
   ],
   "source": [
    "X_train_os.shape, X_test.shape, y_train_os.shape, y_test.shape"
   ]
  },
  {
   "cell_type": "markdown",
   "id": "b16b2756",
   "metadata": {},
   "source": [
    "# Model"
   ]
  },
  {
   "cell_type": "code",
   "execution_count": 185,
   "id": "ed7d4d89",
   "metadata": {},
   "outputs": [],
   "source": [
    "from sklearn import metrics \n",
    "from sklearn.metrics import confusion_matrix,classification_report\n",
    "from sklearn.metrics import accuracy_score,precision_score, recall_score"
   ]
  },
  {
   "cell_type": "code",
   "execution_count": 186,
   "id": "58ef871a",
   "metadata": {},
   "outputs": [],
   "source": [
    "def classification_metrics(x,y) :\n",
    "    accuracy = metrics.accuracy_score(x,y)\n",
    "    F1_score= metrics.f1_score(x,y,average='macro')\n",
    "    precision = metrics.precision_score(x,y)\n",
    "    recall=metrics.recall_score(x,y)\n",
    "    cm= metrics.confusion_matrix(x,y)\n",
    "    \n",
    "    print('accuracy score is :',accuracy )\n",
    "    print('F1 score is :',F1_score )\n",
    "    print('precision score is :',precision )\n",
    "    print('recall score is :',recall )\n",
    "    sns.heatmap(cm,annot=True,cmap='Blues',fmt='g')\n",
    "    plt.title('Confusion Matrix',fontsize=16)"
   ]
  },
  {
   "cell_type": "markdown",
   "id": "5fc86df0",
   "metadata": {},
   "source": [
    "# Logistic Regression"
   ]
  },
  {
   "cell_type": "code",
   "execution_count": 187,
   "id": "f64a2a39",
   "metadata": {},
   "outputs": [],
   "source": [
    "from sklearn.linear_model import LogisticRegression\n",
    "LR=LogisticRegression()\n",
    "LR.fit(X_train_os,y_train_os)\n",
    "y_predLR=LR.predict(X_test)"
   ]
  },
  {
   "cell_type": "code",
   "execution_count": 188,
   "id": "1553dcfa",
   "metadata": {},
   "outputs": [
    {
     "name": "stdout",
     "output_type": "stream",
     "text": [
      "accuracy score is : 0.7920611798980335\n",
      "F1 score is : 0.6292636686306152\n",
      "precision score is : 0.2890455531453362\n",
      "recall score is : 0.5700534759358289\n"
     ]
    },
    {
     "data": {
      "image/png": "[encoded data removed]",
      "text/plain": [
       "<Figure size 432x288 with 2 Axes>"
      ]
     },
     "metadata": {
      "needs_background": "light"
     },
     "output_type": "display_data"
    }
   ],
   "source": [
    "classification_metrics(y_test,y_predLR)"
   ]
  },
  {
   "cell_type": "markdown",
   "id": "cd7de988",
   "metadata": {},
   "source": [
    "# Decision Tree Classifier"
   ]
  },
  {
   "cell_type": "code",
   "execution_count": 189,
   "id": "45d52e35",
   "metadata": {},
   "outputs": [],
   "source": [
    "# Building a Decision Tree Model\n",
    "from sklearn.tree import DecisionTreeClassifier\n",
    "dtree=DecisionTreeClassifier(criterion='gini',random_state=0)"
   ]
  },
  {
   "cell_type": "code",
   "execution_count": 190,
   "id": "76e9b9bc",
   "metadata": {},
   "outputs": [],
   "source": [
    "dtree.fit(X_train_os,y_train_os)\n",
    "y_predDT=dtree.predict(X_test)"
   ]
  },
  {
   "cell_type": "code",
   "execution_count": 191,
   "id": "305f9dc0",
   "metadata": {},
   "outputs": [
    {
     "name": "stdout",
     "output_type": "stream",
     "text": [
      "accuracy score is : 0.8289633406166546\n",
      "F1 score is : 0.5950624400761876\n",
      "precision score is : 0.272552783109405\n",
      "recall score is : 0.3037433155080214\n"
     ]
    },
    {
     "data": {
      "image/png": "[encoded data removed]",
      "text/plain": [
       "<Figure size 432x288 with 2 Axes>"
      ]
     },
     "metadata": {
      "needs_background": "light"
     },
     "output_type": "display_data"
    }
   ],
   "source": [
    "classification_metrics(y_test,y_predDT)"
   ]
  },
  {
   "cell_type": "code",
   "execution_count": 192,
   "id": "0648bd9c",
   "metadata": {},
   "outputs": [
    {
     "name": "stdout",
     "output_type": "stream",
     "text": [
      "Best Parameters using grid search: \n",
      " {'max_depth': 7, 'min_samples_split': 50}\n"
     ]
    }
   ],
   "source": [
    "np.random.seed(44)\n",
    "from sklearn.model_selection import GridSearchCV\n",
    "param_dist = {'max_depth': [3, 5, 6, 7], 'min_samples_split': [50, 100, 150, 200, 250] }\n",
    "tree_grid = GridSearchCV(dtree, cv = 10, param_grid=param_dist,n_jobs = 3)\n",
    "tree_grid.fit(X_train_os,y_train_os) \n",
    "print('Best Parameters using grid search: \\n', tree_grid.best_params_)"
   ]
  },
  {
   "cell_type": "code",
   "execution_count": 193,
   "id": "a23a5aff",
   "metadata": {},
   "outputs": [],
   "source": [
    "y_predDT1=tree_grid.predict(X_test)"
   ]
  },
  {
   "cell_type": "code",
   "execution_count": 194,
   "id": "59daabd5",
   "metadata": {},
   "outputs": [
    {
     "name": "stdout",
     "output_type": "stream",
     "text": [
      "accuracy score is : 0.7630492838067492\n",
      "F1 score is : 0.605704215979255\n",
      "precision score is : 0.25774178180085755\n",
      "recall score is : 0.5786096256684492\n"
     ]
    },
    {
     "data": {
      "image/png": "[encoded data removed]",
      "text/plain": [
       "<Figure size 432x288 with 2 Axes>"
      ]
     },
     "metadata": {
      "needs_background": "light"
     },
     "output_type": "display_data"
    }
   ],
   "source": [
    "classification_metrics(y_test,y_predDT1)"
   ]
  },
  {
   "cell_type": "markdown",
   "id": "a2361f15",
   "metadata": {},
   "source": [
    "# Random Forest Classifier"
   ]
  },
  {
   "cell_type": "code",
   "execution_count": 195,
   "id": "1364d989",
   "metadata": {},
   "outputs": [],
   "source": [
    "from sklearn.ensemble import RandomForestClassifier\n",
    "RF=RandomForestClassifier(criterion='gini',random_state=0,max_depth=7,min_samples_split=50)\n",
    "RF.fit(X_train_os,y_train_os)\n",
    "y_predRF=RF.predict(X_test)"
   ]
  },
  {
   "cell_type": "code",
   "execution_count": 196,
   "id": "0289cf80",
   "metadata": {},
   "outputs": [
    {
     "name": "stdout",
     "output_type": "stream",
     "text": [
      "accuracy score is : 0.8340616654527798\n",
      "F1 score is : 0.6594327971714405\n",
      "precision score is : 0.34615384615384615\n",
      "recall score is : 0.5197860962566845\n"
     ]
    },
    {
     "data": {
      "image/png": "[encoded data removed]",
      "text/plain": [
       "<Figure size 432x288 with 2 Axes>"
      ]
     },
     "metadata": {
      "needs_background": "light"
     },
     "output_type": "display_data"
    }
   ],
   "source": [
    "classification_metrics(y_test,y_predRF)"
   ]
  },
  {
   "cell_type": "code",
   "execution_count": null,
   "id": "8b7d584f",
   "metadata": {},
   "outputs": [],
   "source": []
  },
  {
   "cell_type": "code",
   "execution_count": null,
   "id": "d8344672",
   "metadata": {},
   "outputs": [],
   "source": []
  },
  {
   "cell_type": "code",
   "execution_count": null,
   "id": "ab931d60",
   "metadata": {},
   "outputs": [],
   "source": []
  }
 ],
 "metadata": {
  "kernelspec": {
   "display_name": "Python 3 (ipykernel)",
   "language": "python",
   "name": "python3"
  },
  "language_info": {
   "codemirror_mode": {
    "name": "ipython",
    "version": 3
   },
   "file_extension": ".py",
   "mimetype": "text/x-python",
   "name": "python",
   "nbconvert_exporter": "python",
   "pygments_lexer": "ipython3",
   "version": "3.9.12"
  }
 },
 "nbformat": 4,
 "nbformat_minor": 5
}
